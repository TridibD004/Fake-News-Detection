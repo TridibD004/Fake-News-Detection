{
 "cells": [
  {
   "cell_type": "markdown",
   "id": "dd4337a6",
   "metadata": {},
   "source": [
    "#  Fake News Detection\n",
    "### Tridib Dalui"
   ]
  },
  {
   "cell_type": "code",
   "execution_count": 1,
   "id": "453eff63",
   "metadata": {},
   "outputs": [
    {
     "name": "stderr",
     "output_type": "stream",
     "text": [
      "C:\\Users\\tridi\\anaconda3\\lib\\site-packages\\pandas\\core\\computation\\expressions.py:20: UserWarning: Pandas requires version '2.7.3' or newer of 'numexpr' (version '2.7.1' currently installed).\n",
      "  from pandas.core.computation.check import NUMEXPR_INSTALLED\n"
     ]
    }
   ],
   "source": [
    "import numpy as np\n",
    "import pandas as pd"
   ]
  },
  {
   "cell_type": "code",
   "execution_count": 2,
   "id": "77eafe20",
   "metadata": {},
   "outputs": [],
   "source": [
    "df=pd.read_csv('news.csv')"
   ]
  },
  {
   "cell_type": "code",
   "execution_count": 3,
   "id": "df78db56",
   "metadata": {},
   "outputs": [
    {
     "data": {
      "text/html": [
       "<div>\n",
       "<style scoped>\n",
       "    .dataframe tbody tr th:only-of-type {\n",
       "        vertical-align: middle;\n",
       "    }\n",
       "\n",
       "    .dataframe tbody tr th {\n",
       "        vertical-align: top;\n",
       "    }\n",
       "\n",
       "    .dataframe thead th {\n",
       "        text-align: right;\n",
       "    }\n",
       "</style>\n",
       "<table border=\"1\" class=\"dataframe\">\n",
       "  <thead>\n",
       "    <tr style=\"text-align: right;\">\n",
       "      <th></th>\n",
       "      <th>Unnamed: 0</th>\n",
       "      <th>title</th>\n",
       "      <th>text</th>\n",
       "      <th>label</th>\n",
       "    </tr>\n",
       "  </thead>\n",
       "  <tbody>\n",
       "    <tr>\n",
       "      <th>5238</th>\n",
       "      <td>3503</td>\n",
       "      <td>Obama on future of terror after bin Laden raid</td>\n",
       "      <td>Washington (CNN) On the fifth anniversary of O...</td>\n",
       "      <td>REAL</td>\n",
       "    </tr>\n",
       "    <tr>\n",
       "      <th>6214</th>\n",
       "      <td>8855</td>\n",
       "      <td>Tony Blair suggests a second referendum to rev...</td>\n",
       "      <td>Tony Blair suggests a second referendum to rev...</td>\n",
       "      <td>FAKE</td>\n",
       "    </tr>\n",
       "    <tr>\n",
       "      <th>3965</th>\n",
       "      <td>2030</td>\n",
       "      <td>Bush and Romney: Ready to rumble?</td>\n",
       "      <td>A verdict in 2017 could have sweeping conseque...</td>\n",
       "      <td>REAL</td>\n",
       "    </tr>\n",
       "    <tr>\n",
       "      <th>5926</th>\n",
       "      <td>5805</td>\n",
       "      <td>The Glorious New PC NFL Starts Next Monday!</td>\n",
       "      <td>Afraid of \"dangerous\" Trump presidency, protes...</td>\n",
       "      <td>FAKE</td>\n",
       "    </tr>\n",
       "    <tr>\n",
       "      <th>2054</th>\n",
       "      <td>10031</td>\n",
       "      <td>Don’t Root, Root, Root for the Racist, Red-Fac...</td>\n",
       "      <td>Don’t Root, Root, Root for the Racist, Red-Fac...</td>\n",
       "      <td>FAKE</td>\n",
       "    </tr>\n",
       "    <tr>\n",
       "      <th>810</th>\n",
       "      <td>5089</td>\n",
       "      <td>Trump: I wouldn't accept Cruz's endorsement</td>\n",
       "      <td>\"If he gives it, I will not accept it,\" Trump ...</td>\n",
       "      <td>REAL</td>\n",
       "    </tr>\n",
       "    <tr>\n",
       "      <th>3678</th>\n",
       "      <td>8758</td>\n",
       "      <td>TRUMPED: After Deceiving The American People, ...</td>\n",
       "      <td>NTEB Ads Privacy Policy TRUMPED: After Deceivi...</td>\n",
       "      <td>FAKE</td>\n",
       "    </tr>\n",
       "    <tr>\n",
       "      <th>918</th>\n",
       "      <td>4283</td>\n",
       "      <td>Palin’s endorsement the latest prize as Trump,...</td>\n",
       "      <td>The escalating feud between Donald Trump and T...</td>\n",
       "      <td>REAL</td>\n",
       "    </tr>\n",
       "    <tr>\n",
       "      <th>3015</th>\n",
       "      <td>3580</td>\n",
       "      <td>Why does ISIS keep making enemies?</td>\n",
       "      <td>Peter Bergen is CNN's national security analys...</td>\n",
       "      <td>REAL</td>\n",
       "    </tr>\n",
       "    <tr>\n",
       "      <th>3567</th>\n",
       "      <td>1618</td>\n",
       "      <td>Donald Trump: 'I want surveillance of certain ...</td>\n",
       "      <td>(CNN) Donald Trump is ratcheting up his rhetor...</td>\n",
       "      <td>REAL</td>\n",
       "    </tr>\n",
       "  </tbody>\n",
       "</table>\n",
       "</div>"
      ],
      "text/plain": [
       "      Unnamed: 0                                              title  \\\n",
       "5238        3503     Obama on future of terror after bin Laden raid   \n",
       "6214        8855  Tony Blair suggests a second referendum to rev...   \n",
       "3965        2030                  Bush and Romney: Ready to rumble?   \n",
       "5926        5805        The Glorious New PC NFL Starts Next Monday!   \n",
       "2054       10031  Don’t Root, Root, Root for the Racist, Red-Fac...   \n",
       "810         5089        Trump: I wouldn't accept Cruz's endorsement   \n",
       "3678        8758  TRUMPED: After Deceiving The American People, ...   \n",
       "918         4283  Palin’s endorsement the latest prize as Trump,...   \n",
       "3015        3580                 Why does ISIS keep making enemies?   \n",
       "3567        1618  Donald Trump: 'I want surveillance of certain ...   \n",
       "\n",
       "                                                   text label  \n",
       "5238  Washington (CNN) On the fifth anniversary of O...  REAL  \n",
       "6214  Tony Blair suggests a second referendum to rev...  FAKE  \n",
       "3965  A verdict in 2017 could have sweeping conseque...  REAL  \n",
       "5926  Afraid of \"dangerous\" Trump presidency, protes...  FAKE  \n",
       "2054  Don’t Root, Root, Root for the Racist, Red-Fac...  FAKE  \n",
       "810   \"If he gives it, I will not accept it,\" Trump ...  REAL  \n",
       "3678  NTEB Ads Privacy Policy TRUMPED: After Deceivi...  FAKE  \n",
       "918   The escalating feud between Donald Trump and T...  REAL  \n",
       "3015  Peter Bergen is CNN's national security analys...  REAL  \n",
       "3567  (CNN) Donald Trump is ratcheting up his rhetor...  REAL  "
      ]
     },
     "execution_count": 3,
     "metadata": {},
     "output_type": "execute_result"
    }
   ],
   "source": [
    "df.sample(10)"
   ]
  },
  {
   "cell_type": "code",
   "execution_count": 4,
   "id": "c7c246f3",
   "metadata": {},
   "outputs": [
    {
     "data": {
      "text/plain": [
       "(6335, 4)"
      ]
     },
     "execution_count": 4,
     "metadata": {},
     "output_type": "execute_result"
    }
   ],
   "source": [
    "df.shape"
   ]
  },
  {
   "cell_type": "markdown",
   "id": "03c97702",
   "metadata": {},
   "source": [
    "### Data Preprocessing"
   ]
  },
  {
   "cell_type": "code",
   "execution_count": 5,
   "id": "1f047c39",
   "metadata": {},
   "outputs": [
    {
     "name": "stdout",
     "output_type": "stream",
     "text": [
      "<class 'pandas.core.frame.DataFrame'>\n",
      "RangeIndex: 6335 entries, 0 to 6334\n",
      "Data columns (total 4 columns):\n",
      " #   Column      Non-Null Count  Dtype \n",
      "---  ------      --------------  ----- \n",
      " 0   Unnamed: 0  6335 non-null   int64 \n",
      " 1   title       6335 non-null   object\n",
      " 2   text        6335 non-null   object\n",
      " 3   label       6335 non-null   object\n",
      "dtypes: int64(1), object(3)\n",
      "memory usage: 198.1+ KB\n"
     ]
    }
   ],
   "source": [
    "df.info()"
   ]
  },
  {
   "cell_type": "code",
   "execution_count": 6,
   "id": "4c82fc5e",
   "metadata": {},
   "outputs": [],
   "source": [
    "# here the unnamed 0 column has no work so lets drop that\n",
    "\n",
    "df=df.drop('Unnamed: 0',axis=1)"
   ]
  },
  {
   "cell_type": "code",
   "execution_count": 7,
   "id": "c041c7f6",
   "metadata": {},
   "outputs": [
    {
     "data": {
      "text/plain": [
       "array(['FAKE', 'REAL'], dtype=object)"
      ]
     },
     "execution_count": 7,
     "metadata": {},
     "output_type": "execute_result"
    }
   ],
   "source": [
    "#to check how many outputs do we have\n",
    "\n",
    "df['label'].unique()"
   ]
  },
  {
   "cell_type": "code",
   "execution_count": 8,
   "id": "b87d5c0d",
   "metadata": {},
   "outputs": [
    {
     "data": {
      "text/plain": [
       "title    0\n",
       "text     0\n",
       "label    0\n",
       "dtype: int64"
      ]
     },
     "execution_count": 8,
     "metadata": {},
     "output_type": "execute_result"
    }
   ],
   "source": [
    "# checking for null values\n",
    "\n",
    "df.isna().sum()"
   ]
  },
  {
   "cell_type": "code",
   "execution_count": 9,
   "id": "67b10edd",
   "metadata": {},
   "outputs": [
    {
     "data": {
      "text/plain": [
       "29"
      ]
     },
     "execution_count": 9,
     "metadata": {},
     "output_type": "execute_result"
    }
   ],
   "source": [
    "# check for duplicate values\n",
    "\n",
    "df.duplicated().sum()"
   ]
  },
  {
   "cell_type": "code",
   "execution_count": 10,
   "id": "798464c9",
   "metadata": {},
   "outputs": [],
   "source": [
    "#to drop duplicate values\n",
    "\n",
    "df=df.drop_duplicates()"
   ]
  },
  {
   "cell_type": "code",
   "execution_count": 11,
   "id": "071c2ce8",
   "metadata": {},
   "outputs": [
    {
     "data": {
      "text/plain": [
       "0"
      ]
     },
     "execution_count": 11,
     "metadata": {},
     "output_type": "execute_result"
    }
   ],
   "source": [
    "df.duplicated().sum()"
   ]
  },
  {
   "cell_type": "code",
   "execution_count": 12,
   "id": "cfe025d0",
   "metadata": {},
   "outputs": [
    {
     "data": {
      "text/html": [
       "<div>\n",
       "<style scoped>\n",
       "    .dataframe tbody tr th:only-of-type {\n",
       "        vertical-align: middle;\n",
       "    }\n",
       "\n",
       "    .dataframe tbody tr th {\n",
       "        vertical-align: top;\n",
       "    }\n",
       "\n",
       "    .dataframe thead th {\n",
       "        text-align: right;\n",
       "    }\n",
       "</style>\n",
       "<table border=\"1\" class=\"dataframe\">\n",
       "  <thead>\n",
       "    <tr style=\"text-align: right;\">\n",
       "      <th></th>\n",
       "      <th>title</th>\n",
       "      <th>text</th>\n",
       "      <th>label</th>\n",
       "    </tr>\n",
       "  </thead>\n",
       "  <tbody>\n",
       "    <tr>\n",
       "      <th>count</th>\n",
       "      <td>6306</td>\n",
       "      <td>6306</td>\n",
       "      <td>6306</td>\n",
       "    </tr>\n",
       "    <tr>\n",
       "      <th>unique</th>\n",
       "      <td>6256</td>\n",
       "      <td>6060</td>\n",
       "      <td>2</td>\n",
       "    </tr>\n",
       "    <tr>\n",
       "      <th>top</th>\n",
       "      <td>Michael Moore Owes Me $4.99</td>\n",
       "      <td>Killing Obama administration rules, dismantlin...</td>\n",
       "      <td>REAL</td>\n",
       "    </tr>\n",
       "    <tr>\n",
       "      <th>freq</th>\n",
       "      <td>3</td>\n",
       "      <td>57</td>\n",
       "      <td>3154</td>\n",
       "    </tr>\n",
       "  </tbody>\n",
       "</table>\n",
       "</div>"
      ],
      "text/plain": [
       "                              title  \\\n",
       "count                          6306   \n",
       "unique                         6256   \n",
       "top     Michael Moore Owes Me $4.99   \n",
       "freq                              3   \n",
       "\n",
       "                                                     text label  \n",
       "count                                                6306  6306  \n",
       "unique                                               6060     2  \n",
       "top     Killing Obama administration rules, dismantlin...  REAL  \n",
       "freq                                                   57  3154  "
      ]
     },
     "execution_count": 12,
     "metadata": {},
     "output_type": "execute_result"
    }
   ],
   "source": [
    "#satistical description\n",
    "\n",
    "df.describe()"
   ]
  },
  {
   "cell_type": "markdown",
   "id": "a692b180",
   "metadata": {},
   "source": [
    "for real news"
   ]
  },
  {
   "cell_type": "code",
   "execution_count": 13,
   "id": "0e3f008c",
   "metadata": {},
   "outputs": [
    {
     "name": "stdout",
     "output_type": "stream",
     "text": [
      "<class 'pandas.core.frame.DataFrame'>\n",
      "Int64Index: 3154 entries, 2 to 6334\n",
      "Data columns (total 3 columns):\n",
      " #   Column  Non-Null Count  Dtype \n",
      "---  ------  --------------  ----- \n",
      " 0   title   3154 non-null   object\n",
      " 1   text    3154 non-null   object\n",
      " 2   label   3154 non-null   object\n",
      "dtypes: object(3)\n",
      "memory usage: 98.6+ KB\n"
     ]
    }
   ],
   "source": [
    "df[df['label']=='REAL'].info()"
   ]
  },
  {
   "cell_type": "code",
   "execution_count": 14,
   "id": "7deda3f0",
   "metadata": {},
   "outputs": [
    {
     "data": {
      "text/html": [
       "<div>\n",
       "<style scoped>\n",
       "    .dataframe tbody tr th:only-of-type {\n",
       "        vertical-align: middle;\n",
       "    }\n",
       "\n",
       "    .dataframe tbody tr th {\n",
       "        vertical-align: top;\n",
       "    }\n",
       "\n",
       "    .dataframe thead th {\n",
       "        text-align: right;\n",
       "    }\n",
       "</style>\n",
       "<table border=\"1\" class=\"dataframe\">\n",
       "  <thead>\n",
       "    <tr style=\"text-align: right;\">\n",
       "      <th></th>\n",
       "      <th>title</th>\n",
       "      <th>text</th>\n",
       "      <th>label</th>\n",
       "    </tr>\n",
       "  </thead>\n",
       "  <tbody>\n",
       "    <tr>\n",
       "      <th>count</th>\n",
       "      <td>3154</td>\n",
       "      <td>3154</td>\n",
       "      <td>3154</td>\n",
       "    </tr>\n",
       "    <tr>\n",
       "      <th>unique</th>\n",
       "      <td>3149</td>\n",
       "      <td>2989</td>\n",
       "      <td>1</td>\n",
       "    </tr>\n",
       "    <tr>\n",
       "      <th>top</th>\n",
       "      <td>OnPolitics | 's politics blog</td>\n",
       "      <td>Killing Obama administration rules, dismantlin...</td>\n",
       "      <td>REAL</td>\n",
       "    </tr>\n",
       "    <tr>\n",
       "      <th>freq</th>\n",
       "      <td>3</td>\n",
       "      <td>57</td>\n",
       "      <td>3154</td>\n",
       "    </tr>\n",
       "  </tbody>\n",
       "</table>\n",
       "</div>"
      ],
      "text/plain": [
       "                                title  \\\n",
       "count                            3154   \n",
       "unique                           3149   \n",
       "top     OnPolitics | 's politics blog   \n",
       "freq                                3   \n",
       "\n",
       "                                                     text label  \n",
       "count                                                3154  3154  \n",
       "unique                                               2989     1  \n",
       "top     Killing Obama administration rules, dismantlin...  REAL  \n",
       "freq                                                   57  3154  "
      ]
     },
     "execution_count": 14,
     "metadata": {},
     "output_type": "execute_result"
    }
   ],
   "source": [
    "df[df['label']=='REAL'].describe()"
   ]
  },
  {
   "cell_type": "markdown",
   "id": "1f4c6ff4",
   "metadata": {},
   "source": [
    "for fake news"
   ]
  },
  {
   "cell_type": "code",
   "execution_count": 15,
   "id": "e63efb93",
   "metadata": {},
   "outputs": [
    {
     "name": "stdout",
     "output_type": "stream",
     "text": [
      "<class 'pandas.core.frame.DataFrame'>\n",
      "Int64Index: 3152 entries, 0 to 6332\n",
      "Data columns (total 3 columns):\n",
      " #   Column  Non-Null Count  Dtype \n",
      "---  ------  --------------  ----- \n",
      " 0   title   3152 non-null   object\n",
      " 1   text    3152 non-null   object\n",
      " 2   label   3152 non-null   object\n",
      "dtypes: object(3)\n",
      "memory usage: 98.5+ KB\n"
     ]
    }
   ],
   "source": [
    "df[df['label']=='FAKE'].info()"
   ]
  },
  {
   "cell_type": "code",
   "execution_count": 16,
   "id": "46a17e05",
   "metadata": {},
   "outputs": [
    {
     "data": {
      "text/html": [
       "<div>\n",
       "<style scoped>\n",
       "    .dataframe tbody tr th:only-of-type {\n",
       "        vertical-align: middle;\n",
       "    }\n",
       "\n",
       "    .dataframe tbody tr th {\n",
       "        vertical-align: top;\n",
       "    }\n",
       "\n",
       "    .dataframe thead th {\n",
       "        text-align: right;\n",
       "    }\n",
       "</style>\n",
       "<table border=\"1\" class=\"dataframe\">\n",
       "  <thead>\n",
       "    <tr style=\"text-align: right;\">\n",
       "      <th></th>\n",
       "      <th>title</th>\n",
       "      <th>text</th>\n",
       "      <th>label</th>\n",
       "    </tr>\n",
       "  </thead>\n",
       "  <tbody>\n",
       "    <tr>\n",
       "      <th>count</th>\n",
       "      <td>3152</td>\n",
       "      <td>3152</td>\n",
       "      <td>3152</td>\n",
       "    </tr>\n",
       "    <tr>\n",
       "      <th>unique</th>\n",
       "      <td>3107</td>\n",
       "      <td>3071</td>\n",
       "      <td>1</td>\n",
       "    </tr>\n",
       "    <tr>\n",
       "      <th>top</th>\n",
       "      <td>Get Ready For Civil Unrest: Survey Finds That ...</td>\n",
       "      <td></td>\n",
       "      <td>FAKE</td>\n",
       "    </tr>\n",
       "    <tr>\n",
       "      <th>freq</th>\n",
       "      <td>3</td>\n",
       "      <td>36</td>\n",
       "      <td>3152</td>\n",
       "    </tr>\n",
       "  </tbody>\n",
       "</table>\n",
       "</div>"
      ],
      "text/plain": [
       "                                                    title  text label\n",
       "count                                                3152  3152  3152\n",
       "unique                                               3107  3071     1\n",
       "top     Get Ready For Civil Unrest: Survey Finds That ...        FAKE\n",
       "freq                                                    3    36  3152"
      ]
     },
     "execution_count": 16,
     "metadata": {},
     "output_type": "execute_result"
    }
   ],
   "source": [
    "df[df['label']=='FAKE'].describe()"
   ]
  },
  {
   "cell_type": "code",
   "execution_count": 17,
   "id": "5bb0f874",
   "metadata": {},
   "outputs": [],
   "source": [
    "# we have to do the analysis on any one column so I'm going to work with Text column\n",
    "\n",
    "df=df.drop('title',axis=1)"
   ]
  },
  {
   "cell_type": "markdown",
   "id": "ddc5b6a0",
   "metadata": {},
   "source": [
    "### Data Visulaization"
   ]
  },
  {
   "cell_type": "code",
   "execution_count": 18,
   "id": "bfa7a9e6",
   "metadata": {},
   "outputs": [],
   "source": [
    "import matplotlib.pyplot as plt\n",
    "import seaborn as sns\n",
    "import warnings\n",
    "warnings.filterwarnings('ignore')"
   ]
  },
  {
   "cell_type": "code",
   "execution_count": 19,
   "id": "81715e14",
   "metadata": {},
   "outputs": [
    {
     "data": {
      "text/plain": [
       "<AxesSubplot: xlabel='label', ylabel='count'>"
      ]
     },
     "execution_count": 19,
     "metadata": {},
     "output_type": "execute_result"
    },
    {
     "data": {
      "image/png": "[encoded data removed]",
      "text/plain": [
       "<Figure size 432x288 with 1 Axes>"
      ]
     },
     "metadata": {
      "needs_background": "light"
     },
     "output_type": "display_data"
    }
   ],
   "source": [
    "#histogram\n",
    "\n",
    "sns.countplot(x=df['label'])"
   ]
  },
  {
   "cell_type": "code",
   "execution_count": 20,
   "id": "564271ff",
   "metadata": {},
   "outputs": [
    {
     "data": {
      "image/png": "[encoded data removed]",
      "text/plain": [
       "<Figure size 432x288 with 1 Axes>"
      ]
     },
     "metadata": {},
     "output_type": "display_data"
    }
   ],
   "source": [
    "#pie chart\n",
    "\n",
    "plt.pie(df['label'].value_counts(),labels=['REAL','FAKE'],colors=['blue','yellow'],autopct='%0.2f')\n",
    "plt.show()"
   ]
  },
  {
   "cell_type": "markdown",
   "id": "c66a74f9",
   "metadata": {},
   "source": [
    "data is well distributed"
   ]
  },
  {
   "cell_type": "markdown",
   "id": "b5a5eb78",
   "metadata": {},
   "source": [
    "### Making Data Ready for Model fitting"
   ]
  },
  {
   "cell_type": "code",
   "execution_count": 21,
   "id": "e18dbbea",
   "metadata": {},
   "outputs": [],
   "source": [
    "#to make the label neumerical from categorical\n",
    "\n",
    "from sklearn.preprocessing import LabelEncoder\n",
    "\n",
    "le=LabelEncoder()\n",
    "\n",
    "df['label']=le.fit_transform(df['label'])"
   ]
  },
  {
   "cell_type": "code",
   "execution_count": 22,
   "id": "5c0a2383",
   "metadata": {},
   "outputs": [
    {
     "data": {
      "text/html": [
       "<div>\n",
       "<style scoped>\n",
       "    .dataframe tbody tr th:only-of-type {\n",
       "        vertical-align: middle;\n",
       "    }\n",
       "\n",
       "    .dataframe tbody tr th {\n",
       "        vertical-align: top;\n",
       "    }\n",
       "\n",
       "    .dataframe thead th {\n",
       "        text-align: right;\n",
       "    }\n",
       "</style>\n",
       "<table border=\"1\" class=\"dataframe\">\n",
       "  <thead>\n",
       "    <tr style=\"text-align: right;\">\n",
       "      <th></th>\n",
       "      <th>text</th>\n",
       "      <th>label</th>\n",
       "    </tr>\n",
       "  </thead>\n",
       "  <tbody>\n",
       "    <tr>\n",
       "      <th>608</th>\n",
       "      <td>In some gas stations around the country, the p...</td>\n",
       "      <td>1</td>\n",
       "    </tr>\n",
       "    <tr>\n",
       "      <th>4264</th>\n",
       "      <td>November 4: Daily Contrarian Reads By David St...</td>\n",
       "      <td>0</td>\n",
       "    </tr>\n",
       "    <tr>\n",
       "      <th>299</th>\n",
       "      <td>Congress faces a June 1 deadline for the law's...</td>\n",
       "      <td>1</td>\n",
       "    </tr>\n",
       "    <tr>\n",
       "      <th>3087</th>\n",
       "      <td>Remember the last debate when the internet ble...</td>\n",
       "      <td>0</td>\n",
       "    </tr>\n",
       "    <tr>\n",
       "      <th>4502</th>\n",
       "      <td>Recipient Email =&gt; \\nThere’s playing with fi...</td>\n",
       "      <td>0</td>\n",
       "    </tr>\n",
       "    <tr>\n",
       "      <th>1807</th>\n",
       "      <td>President-elect Donald Trump has said he plans...</td>\n",
       "      <td>0</td>\n",
       "    </tr>\n",
       "    <tr>\n",
       "      <th>6032</th>\n",
       "      <td>Many see a double standard in the FBI's recomm...</td>\n",
       "      <td>1</td>\n",
       "    </tr>\n",
       "    <tr>\n",
       "      <th>5008</th>\n",
       "      <td>Meet the journalist facing 45 years in jail fo...</td>\n",
       "      <td>0</td>\n",
       "    </tr>\n",
       "    <tr>\n",
       "      <th>4294</th>\n",
       "      <td>Sean Hannity SHREDS FBI Director James Comey f...</td>\n",
       "      <td>0</td>\n",
       "    </tr>\n",
       "    <tr>\n",
       "      <th>635</th>\n",
       "      <td>(CNN) Donald Trump on Wednesday refused to say...</td>\n",
       "      <td>1</td>\n",
       "    </tr>\n",
       "  </tbody>\n",
       "</table>\n",
       "</div>"
      ],
      "text/plain": [
       "                                                   text  label\n",
       "608   In some gas stations around the country, the p...      1\n",
       "4264  November 4: Daily Contrarian Reads By David St...      0\n",
       "299   Congress faces a June 1 deadline for the law's...      1\n",
       "3087  Remember the last debate when the internet ble...      0\n",
       "4502    Recipient Email => \\nThere’s playing with fi...      0\n",
       "1807  President-elect Donald Trump has said he plans...      0\n",
       "6032  Many see a double standard in the FBI's recomm...      1\n",
       "5008  Meet the journalist facing 45 years in jail fo...      0\n",
       "4294  Sean Hannity SHREDS FBI Director James Comey f...      0\n",
       "635   (CNN) Donald Trump on Wednesday refused to say...      1"
      ]
     },
     "execution_count": 22,
     "metadata": {},
     "output_type": "execute_result"
    }
   ],
   "source": [
    "df.sample(10)"
   ]
  },
  {
   "cell_type": "markdown",
   "id": "f208200a",
   "metadata": {},
   "source": [
    "0=real news && 1=fake news"
   ]
  },
  {
   "cell_type": "code",
   "execution_count": 23,
   "id": "f23b9844",
   "metadata": {},
   "outputs": [],
   "source": [
    "# function to change the texts (title,text) machine understandable\n",
    "\n",
    "import re\n",
    "\n",
    "def convert(text):\n",
    "    text = text.lower()\n",
    "    text = re.sub(r'https?://S+|www\\.\\S+' , '' , text)\n",
    "    text = re.sub('\\n' , '' , text)\n",
    "    text = re.sub('\\[.*?\\]', '', text)\n",
    "    words = []\n",
    "    for i in text:\n",
    "        if i not in string.punctuation:\n",
    "            words.append(i)\n",
    "    return ''.join(words)"
   ]
  },
  {
   "cell_type": "code",
   "execution_count": 24,
   "id": "df812917",
   "metadata": {},
   "outputs": [],
   "source": [
    "import string\n",
    "\n",
    "df[\"text\"] = df[\"text\"].apply(convert)"
   ]
  },
  {
   "cell_type": "markdown",
   "id": "06eecc0c",
   "metadata": {},
   "source": [
    "after conversion data is"
   ]
  },
  {
   "cell_type": "code",
   "execution_count": 25,
   "id": "a6ec753d",
   "metadata": {},
   "outputs": [
    {
     "data": {
      "text/html": [
       "<div>\n",
       "<style scoped>\n",
       "    .dataframe tbody tr th:only-of-type {\n",
       "        vertical-align: middle;\n",
       "    }\n",
       "\n",
       "    .dataframe tbody tr th {\n",
       "        vertical-align: top;\n",
       "    }\n",
       "\n",
       "    .dataframe thead th {\n",
       "        text-align: right;\n",
       "    }\n",
       "</style>\n",
       "<table border=\"1\" class=\"dataframe\">\n",
       "  <thead>\n",
       "    <tr style=\"text-align: right;\">\n",
       "      <th></th>\n",
       "      <th>text</th>\n",
       "      <th>label</th>\n",
       "    </tr>\n",
       "  </thead>\n",
       "  <tbody>\n",
       "    <tr>\n",
       "      <th>3897</th>\n",
       "      <td>after the bombshell announcement friday that t...</td>\n",
       "      <td>1</td>\n",
       "    </tr>\n",
       "    <tr>\n",
       "      <th>80</th>\n",
       "      <td>democratic national committee officials on sat...</td>\n",
       "      <td>1</td>\n",
       "    </tr>\n",
       "    <tr>\n",
       "      <th>439</th>\n",
       "      <td>there’s not really any good news for the gop i...</td>\n",
       "      <td>1</td>\n",
       "    </tr>\n",
       "    <tr>\n",
       "      <th>669</th>\n",
       "      <td>trump has been the leader for several months n...</td>\n",
       "      <td>1</td>\n",
       "    </tr>\n",
       "    <tr>\n",
       "      <th>802</th>\n",
       "      <td>donald trump the next president of the united ...</td>\n",
       "      <td>0</td>\n",
       "    </tr>\n",
       "    <tr>\n",
       "      <th>5429</th>\n",
       "      <td>videos will barack obama delay or suspend the ...</td>\n",
       "      <td>0</td>\n",
       "    </tr>\n",
       "    <tr>\n",
       "      <th>3265</th>\n",
       "      <td>by christina sarichjordan — you’ve already hea...</td>\n",
       "      <td>0</td>\n",
       "    </tr>\n",
       "    <tr>\n",
       "      <th>5942</th>\n",
       "      <td>federal taxpayers dumped more than 205 million...</td>\n",
       "      <td>1</td>\n",
       "    </tr>\n",
       "    <tr>\n",
       "      <th>1384</th>\n",
       "      <td>the recent murders at a colorado springs plann...</td>\n",
       "      <td>1</td>\n",
       "    </tr>\n",
       "    <tr>\n",
       "      <th>5726</th>\n",
       "      <td>comments republican nominee donald trump is an...</td>\n",
       "      <td>0</td>\n",
       "    </tr>\n",
       "  </tbody>\n",
       "</table>\n",
       "</div>"
      ],
      "text/plain": [
       "                                                   text  label\n",
       "3897  after the bombshell announcement friday that t...      1\n",
       "80    democratic national committee officials on sat...      1\n",
       "439   there’s not really any good news for the gop i...      1\n",
       "669   trump has been the leader for several months n...      1\n",
       "802   donald trump the next president of the united ...      0\n",
       "5429  videos will barack obama delay or suspend the ...      0\n",
       "3265  by christina sarichjordan — you’ve already hea...      0\n",
       "5942  federal taxpayers dumped more than 205 million...      1\n",
       "1384  the recent murders at a colorado springs plann...      1\n",
       "5726  comments republican nominee donald trump is an...      0"
      ]
     },
     "execution_count": 25,
     "metadata": {},
     "output_type": "execute_result"
    }
   ],
   "source": [
    "df.sample(10)"
   ]
  },
  {
   "cell_type": "markdown",
   "id": "0d0f3f00",
   "metadata": {},
   "source": [
    "### Seperating input & output data"
   ]
  },
  {
   "cell_type": "code",
   "execution_count": 26,
   "id": "e3189894",
   "metadata": {},
   "outputs": [],
   "source": [
    "x=df['text']\n",
    "y=df['label']"
   ]
  },
  {
   "cell_type": "markdown",
   "id": "71dbf71b",
   "metadata": {},
   "source": [
    "### Making the Traing and testing dataset"
   ]
  },
  {
   "cell_type": "code",
   "execution_count": 27,
   "id": "5327d44b",
   "metadata": {},
   "outputs": [],
   "source": [
    "from sklearn.model_selection import train_test_split\n",
    "\n",
    "X_train,X_test,y_train,y_test=train_test_split(x,y,test_size=0.25)"
   ]
  },
  {
   "cell_type": "markdown",
   "id": "a665c2fc",
   "metadata": {},
   "source": [
    "### To convert Text Data to vectors "
   ]
  },
  {
   "cell_type": "code",
   "execution_count": 28,
   "id": "ca3d3e00",
   "metadata": {},
   "outputs": [],
   "source": [
    "from sklearn.feature_extraction.text import TfidfVectorizer\n",
    "\n",
    "vectorization = TfidfVectorizer()\n",
    "x_train= vectorization.fit_transform(X_train)\n",
    "x_test = vectorization.transform(X_test)"
   ]
  },
  {
   "cell_type": "markdown",
   "id": "dd2afc8a",
   "metadata": {},
   "source": [
    "### Model fitting\n",
    "\n",
    "#### Here we will use 4 algorithms\n",
    "1)Logistic Regression 2)Decision tree classifier 3)Random tree classifier 4)Naive Bayes"
   ]
  },
  {
   "cell_type": "code",
   "execution_count": 29,
   "id": "2e8445de",
   "metadata": {},
   "outputs": [],
   "source": [
    "from sklearn.metrics import accuracy_score"
   ]
  },
  {
   "cell_type": "code",
   "execution_count": 30,
   "id": "145a1bdb",
   "metadata": {},
   "outputs": [
    {
     "name": "stdout",
     "output_type": "stream",
     "text": [
      "(4729, 103897)\n",
      "(4729,)\n"
     ]
    }
   ],
   "source": [
    "print(x_train.shape)\n",
    "print(y_train.shape)"
   ]
  },
  {
   "cell_type": "code",
   "execution_count": 31,
   "id": "2ff33232",
   "metadata": {},
   "outputs": [
    {
     "data": {
      "text/plain": [
       "0.9143944197844007"
      ]
     },
     "execution_count": 31,
     "metadata": {},
     "output_type": "execute_result"
    }
   ],
   "source": [
    "# 1) Logistic Regression\n",
    "\n",
    "from sklearn.linear_model import LogisticRegression\n",
    "\n",
    "LR = LogisticRegression()\n",
    "LR.fit(x_train,y_train)\n",
    "LogisticRegression()\n",
    "pred_lr=LR.predict(x_test)\n",
    "LR.score(x_test, y_test)"
   ]
  },
  {
   "cell_type": "code",
   "execution_count": 32,
   "id": "7942c2f5",
   "metadata": {},
   "outputs": [
    {
     "data": {
      "text/plain": [
       "0.7901077996195307"
      ]
     },
     "execution_count": 32,
     "metadata": {},
     "output_type": "execute_result"
    }
   ],
   "source": [
    "# 2) Decision Tree Classifier\n",
    "\n",
    "from sklearn.tree import DecisionTreeClassifier\n",
    "dtc=DecisionTreeClassifier()\n",
    "model4=dtc.fit(x_train,y_train)\n",
    "prediction2=model4.predict(x_test)\n",
    "accuracy_score(y_test,prediction2)"
   ]
  },
  {
   "cell_type": "code",
   "execution_count": 33,
   "id": "4d74ea01",
   "metadata": {},
   "outputs": [
    {
     "data": {
      "text/plain": [
       "0.8979074191502854"
      ]
     },
     "execution_count": 33,
     "metadata": {},
     "output_type": "execute_result"
    }
   ],
   "source": [
    "# 3) Random Forest Classifier\n",
    "\n",
    "from sklearn.ensemble import RandomForestClassifier\n",
    "rfc=RandomForestClassifier()\n",
    "model8=rfc.fit(x_train,y_train)\n",
    "prediction3=model8.predict(x_test)\n",
    "accuracy_score(y_test,prediction3)"
   ]
  },
  {
   "cell_type": "code",
   "execution_count": 34,
   "id": "f4275b75",
   "metadata": {},
   "outputs": [
    {
     "data": {
      "text/plain": [
       "0.8205453392517438"
      ]
     },
     "execution_count": 34,
     "metadata": {},
     "output_type": "execute_result"
    }
   ],
   "source": [
    "# 4) Multinomial naive Bayes\n",
    "\n",
    "from sklearn.naive_bayes import MultinomialNB\n",
    "nb = MultinomialNB()\n",
    "nb.fit(x_train , y_train)\n",
    "model16=nb.fit(x_train,y_train)\n",
    "prediction4=model16.predict(x_test)\n",
    "accuracy_score(y_test,prediction4)"
   ]
  },
  {
   "cell_type": "markdown",
   "id": "d0a29d2a",
   "metadata": {},
   "source": [
    "#### So Logistic Regres is giving the best accuracy "
   ]
  },
  {
   "cell_type": "code",
   "execution_count": 35,
   "id": "684e81f6",
   "metadata": {},
   "outputs": [],
   "source": [
    "def answer(n):\n",
    "    if n == 0:\n",
    "        return \"Fake News\"\n",
    "    elif n == 1:\n",
    "        return \"Not A Fake News\"\n",
    "    \n",
    "def testing(news):\n",
    "    testing_news = {\"text\":[news]}\n",
    "    new_def_test = pd.DataFrame(testing_news)\n",
    "    new_def_test[\"text\"] = new_def_test[\"text\"].apply(convert) \n",
    "    new_x_test = new_def_test[\"text\"]\n",
    "    new_xv_test = vectorization.transform(new_x_test)\n",
    "    pred_LR = LR.predict(new_xv_test)\n",
    "\n",
    "    return print(\"\\n\\n Prediction: {} \".format(answer(pred_LR[0])))"
   ]
  },
  {
   "cell_type": "code",
   "execution_count": 36,
   "id": "b59409c6",
   "metadata": {},
   "outputs": [
    {
     "name": "stdout",
     "output_type": "stream",
     "text": [
      "\n",
      "\n",
      " Prediction: Fake News \n"
     ]
    }
   ],
   "source": [
    "news='shocking  michele obama   hillary caught glamorizing date rape promoters first lady claims moral high ground while befriending rape glorifying rappers infowars com   october    comments  alex jones breaks down the complete hypocrisy of michele obama and hillary clinton attacking trump for comments he made over a decade ago while the white house is hosting and promoting rappers who boast about date raping women and selling drugs in their music   rappers who have been welcomed to the white house by the obama s include  rick ross   who promotes drugging and raping woman in his song  u o n e o    while attacking trump as a sexual predator  michelle and hillary have further mainstreamed the degradation of women through their support of so called musicians who attempt to normalize rape  newsletter sign up get the latest breaking news   specials from alex jones and the infowars crew  related articles'\n",
    "testing(news) # original answer fake news"
   ]
  },
  {
   "cell_type": "code",
   "execution_count": 37,
   "id": "d03a0fed",
   "metadata": {},
   "outputs": [
    {
     "name": "stdout",
     "output_type": "stream",
     "text": [
      "\n",
      "\n",
      " Prediction: Fake News \n"
     ]
    }
   ],
   "source": [
    "news='october    at   am  pretty factual except for women in the selective service  american military is still voluntary only and hasn t been a draft since vietnam war  the comment was made by a  star general of the army about drafting women and he said it to shut up liberal yahoos  '\n",
    "testing(news) # original fake news"
   ]
  },
  {
   "cell_type": "markdown",
   "id": "d8dd3bb3",
   "metadata": {},
   "source": [
    "#### So our model is working Fine"
   ]
  },
  {
   "cell_type": "markdown",
   "id": "239aeb3e",
   "metadata": {},
   "source": [
    "### Saving The Model"
   ]
  },
  {
   "cell_type": "code",
   "execution_count": 38,
   "id": "91a4c8fd",
   "metadata": {},
   "outputs": [],
   "source": [
    "import pickle"
   ]
  },
  {
   "cell_type": "code",
   "execution_count": 39,
   "id": "1d244515",
   "metadata": {},
   "outputs": [],
   "source": [
    "pickle.dump(LR,open('fake_news_detector.pkl','wb'))"
   ]
  },
  {
   "cell_type": "markdown",
   "id": "0559b6fa",
   "metadata": {},
   "source": [
    "# Thank You"
   ]
  }
 ],
 "metadata": {
  "kernelspec": {
   "display_name": "Python 3",
   "language": "python",
   "name": "python3"
  },
  "language_info": {
   "codemirror_mode": {
    "name": "ipython",
    "version": 3
   },
   "file_extension": ".py",
   "mimetype": "text/x-python",
   "name": "python",
   "nbconvert_exporter": "python",
   "pygments_lexer": "ipython3",
   "version": "3.8.3"
  }
 },
 "nbformat": 4,
 "nbformat_minor": 5
}
